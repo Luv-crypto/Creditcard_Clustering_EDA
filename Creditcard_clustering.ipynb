{
 "cells": [
  {
   "cell_type": "code",
   "execution_count": null,
   "metadata": {
    "colab": {
     "base_uri": "https://localhost:8080/"
    },
    "id": "paKSepJfckBi",
    "outputId": "7d0e517d-8f0f-48cc-c162-f7e96294ebd3"
   },
   "outputs": [],
   "source": [
    "import pandas as pd\n",
    "import numpy as np\n",
    "import matplotlib.pyplot as plt\n",
    "import seaborn as sns\n",
    "import jinja2\n",
    "from pycaret.clustering import *\n",
    "%matplotlib inline"
   ]
  },
  {
   "cell_type": "code",
   "execution_count": null,
   "metadata": {
    "id": "32ZenJLyckBm"
   },
   "outputs": [],
   "source": [
    "df = pd.read_csv(\"Data_problem 1.csv\")"
   ]
  },
  {
   "cell_type": "code",
   "execution_count": null,
   "metadata": {
    "colab": {
     "base_uri": "https://localhost:8080/",
     "height": 427
    },
    "id": "HiGeZt_OckBn",
    "outputId": "6cf2870e-b9f2-42c6-a550-f91d6f0cef92"
   },
   "outputs": [],
   "source": [
    "df.head(10)"
   ]
  },
  {
   "cell_type": "code",
   "execution_count": null,
   "metadata": {
    "colab": {
     "base_uri": "https://localhost:8080/",
     "height": 570
    },
    "id": "qW8hxEhlckBo",
    "outputId": "73b784fb-c77c-4ac0-9f25-c7c46fd5d175"
   },
   "outputs": [],
   "source": [
    "plt.figure(figsize=(9,9))\n",
    "plt.title(\"Missing values\",fontweight=\"bold\")\n",
    "ax = sns.heatmap(df.isna().sum().to_frame(),annot=True,fmt=\"d\",cmap=\"vlag\")\n",
    "ax.set_label(\"Amount missing\")\n",
    "plt.show"
   ]
  },
  {
   "cell_type": "code",
   "execution_count": null,
   "metadata": {
    "colab": {
     "base_uri": "https://localhost:8080/",
     "height": 487
    },
    "id": "dFMZNnXpckBp",
    "outputId": "c7787640-18a7-4a1a-f178-9e72cbd254a0"
   },
   "outputs": [],
   "source": [
    "\n",
    "categorical_col = df.CUST_ID\n",
    "numerical_col = df.iloc[:,1:]\n",
    "numerical_col\n"
   ]
  },
  {
   "cell_type": "code",
   "execution_count": null,
   "metadata": {
    "colab": {
     "base_uri": "https://localhost:8080/",
     "height": 1000
    },
    "id": "lPADrfbeckBp",
    "outputId": "8cd371e6-c70b-4154-fc8a-b4b9d9eb257e"
   },
   "outputs": [],
   "source": [
    "numerical_col.hist(bins = 20, figsize=(30,15))"
   ]
  },
  {
   "cell_type": "code",
   "execution_count": null,
   "metadata": {
    "colab": {
     "base_uri": "https://localhost:8080/",
     "height": 797
    },
    "id": "9kzyyXkmckBq",
    "outputId": "881d9d94-6592-411b-8d8b-07b3f8c90cdc"
   },
   "outputs": [],
   "source": [
    "plt.figure(figsize=(15,10))\n",
    "sns.heatmap(data= df.corr(), annot= True)\n",
    "plt.show()"
   ]
  },
  {
   "cell_type": "code",
   "execution_count": null,
   "metadata": {
    "colab": {
     "base_uri": "https://localhost:8080/",
     "height": 551
    },
    "id": "JNewcqSMckBq",
    "outputId": "39f05b08-69f5-413a-c01c-83e4a94dd807"
   },
   "outputs": [],
   "source": [
    "\n",
    "plt.figure(figsize=(15,9))\n",
    "sns.boxplot(x = \"TENURE\", y =\"BALANCE\", data = df)\n",
    "plt.show()"
   ]
  },
  {
   "cell_type": "code",
   "execution_count": null,
   "metadata": {
    "colab": {
     "base_uri": "https://localhost:8080/",
     "height": 606
    },
    "id": "0sffJjP8ckBr",
    "outputId": "5ee43389-224b-4cfe-cc03-d7fbc38dec90"
   },
   "outputs": [],
   "source": [
    "plt.figure(figsize=(15,10))\n",
    "sns.boxplot(x = \"TENURE\", y =\"CASH_ADVANCE\", data = df)\n",
    "plt.show()\n"
   ]
  },
  {
   "cell_type": "code",
   "execution_count": null,
   "metadata": {
    "colab": {
     "base_uri": "https://localhost:8080/",
     "height": 388
    },
    "id": "YzPKCzt1ckBs",
    "outputId": "0fe8e60e-fbac-48a9-cfa6-ec2c6d959425"
   },
   "outputs": [],
   "source": [
    "plt.figure(figsize=(8,6))\n",
    "sns.scatterplot(x = \"BALANCE\", y =\"PURCHASES\", data = df, color = \"pink\")\n",
    "plt.show()"
   ]
  },
  {
   "cell_type": "code",
   "execution_count": null,
   "metadata": {
    "colab": {
     "base_uri": "https://localhost:8080/",
     "height": 487
    },
    "id": "7qlluFP4ckBt",
    "outputId": "bf46d3d1-24b4-4022-ff49-ab08db0d0b9b"
   },
   "outputs": [],
   "source": [
    "df['limit_usage'] = df[\"PURCHASES\"]/df[\"CREDIT_LIMIT\"]\n",
    "df[\"PUR-BAL\"] = df[\"PURCHASES\"] /df[\"BALANCE\"]\n",
    "df[\"BAL-INS\"] = df[\"INSTALLMENTS_PURCHASES\"]/df[\"BALANCE\"]\n",
    "df"
   ]
  },
  {
   "cell_type": "code",
   "execution_count": null,
   "metadata": {
    "id": "0Y5iTK2qckBt"
   },
   "outputs": [],
   "source": [
    "new_df = df\n",
    "new_df.fillna(0, inplace = True)\n",
    "new_df = new_df.drop([\"TENURE\",\"CUST_ID\",\"CASH_ADVANCE_TRX\",\"PURCHASES_INSTALLMENTS_FREQUENCY\",\"BALANCE_FREQUENCY\",\"ONEOFF_PURCHASES_FREQUENCY\",\"BALANCE_FREQUENCY\",\"CASH_ADVANCE_FREQUENCY\",\"ONEOFF_PURCHASES\"], axis =1 ,inplace= True)\n",
    "\n",
    "\n"
   ]
  },
  {
   "cell_type": "code",
   "execution_count": null,
   "metadata": {
    "colab": {
     "base_uri": "https://localhost:8080/",
     "height": 1000,
     "referenced_widgets": [
      "2e0072ee31e740fb9156f0b647c05acf",
      "8bac82baa56a4c5584c0be1a540dd7bf",
      "14f33e6afbbd49ae89dbfbe28ac7ef4d"
     ]
    },
    "id": "Z2KwJhLlckBu",
    "outputId": "da3c6879-f92b-4914-8f82-cdc1e0525fb3"
   },
   "outputs": [],
   "source": [
    "clusters = setup(new_df,normalize = True, \n",
    "            pca = True,silent =True,\n",
    "            combine_rare_levels= True,\n",
    "            remove_multicollinearity= True,session_id=12)"
   ]
  },
  {
   "cell_type": "code",
   "execution_count": null,
   "metadata": {
    "colab": {
     "base_uri": "https://localhost:8080/",
     "height": 363
    },
    "id": "F0HAhoULckBu",
    "outputId": "a23ae3ea-fef9-4491-cc80-42f903d15c46"
   },
   "outputs": [],
   "source": [
    "models()"
   ]
  },
  {
   "cell_type": "code",
   "execution_count": null,
   "metadata": {
    "colab": {
     "base_uri": "https://localhost:8080/",
     "height": 81,
     "referenced_widgets": [
      "f82f849bfaa741729d8003759898a98b",
      "1bfab0a4d3ae402a981705786bf7b580",
      "5a60ffe84f4040f8bcc8cc20b8f597ab"
     ]
    },
    "id": "L-WF9zb9ckBv",
    "outputId": "e9e836aa-5fbb-499e-969c-cda6d491c884"
   },
   "outputs": [],
   "source": [
    "KMEANS = create_model(\"kmeans\",num_clusters=4)\n",
    "\n"
   ]
  },
  {
   "cell_type": "code",
   "execution_count": null,
   "metadata": {
    "colab": {
     "base_uri": "https://localhost:8080/",
     "height": 81,
     "referenced_widgets": [
      "9670c769f12240c0bc9ecd91ea1fa150",
      "5e1f5dd7b136484bbcc84cd1ca7df6ad",
      "02621f62abbe498c8dc22c4d7cf62dde"
     ]
    },
    "id": "RayHfMq2ckBv",
    "outputId": "b4fc9fdd-6dcc-42d6-f2a3-0766fd778471"
   },
   "outputs": [],
   "source": [
    "hierr_clust = create_model(\"hclust\",num_clusters=6)"
   ]
  },
  {
   "cell_type": "code",
   "execution_count": null,
   "metadata": {
    "colab": {
     "base_uri": "https://localhost:8080/",
     "height": 661
    },
    "id": "4ObN0PwfckBv",
    "outputId": "091cd364-c0eb-4cf9-e640-19e1d30239ab"
   },
   "outputs": [],
   "source": [
    "KMEANS_result = assign_model(KMEANS )\n",
    "KMEANS_result"
   ]
  },
  {
   "cell_type": "code",
   "execution_count": null,
   "metadata": {
    "colab": {
     "base_uri": "https://localhost:8080/",
     "height": 294,
     "referenced_widgets": [
      "de13c2f2260b41b4b631757453722b66",
      "470fe7d873d640a0af05214e89c57261",
      "a25abc90c027449c9af2dbb9510648f9"
     ]
    },
    "id": "sMxU4VdNckBw",
    "outputId": "2f5ca00a-92be-4567-d4a9-d9c27bca9593"
   },
   "outputs": [],
   "source": [
    "plot_model(KMEANS,plot='elbow' )"
   ]
  },
  {
   "cell_type": "code",
   "execution_count": null,
   "metadata": {
    "colab": {
     "base_uri": "https://localhost:8080/",
     "height": 617
    },
    "id": "tzu6PFytvwC7",
    "outputId": "62b42fc1-2528-4730-b75b-09530d79158b"
   },
   "outputs": [],
   "source": [
    "plot_model(KMEANS)"
   ]
  },
  {
   "cell_type": "markdown",
   "metadata": {
    "id": "p3uTPiPk8wTD"
   },
   "source": [
    "KMeans RESULT -The customers are divided into 4 clusters based on the above final 14 features.\n",
    "Some points of cluster1 are overlapping with the space of cluster0. Besides that we can seperate the clusters from one another fairly"
   ]
  },
  {
   "cell_type": "code",
   "execution_count": null,
   "metadata": {
    "colab": {
     "base_uri": "https://localhost:8080/",
     "height": 617
    },
    "id": "bInQG3tjtocf",
    "outputId": "d0d2dd33-7540-4814-ec21-2b8747404a97"
   },
   "outputs": [],
   "source": [
    "plot_model(hierr_clust)"
   ]
  },
  {
   "cell_type": "markdown",
   "metadata": {
    "id": "cUY7T6Jb9so0"
   },
   "source": [
    "Hierarchial Result:- The results are much worse using this technique as the datapoints in all the clusters are overlapping each other. There is no rough decision boundary> Due to this I have used the KMeans as our final model"
   ]
  },
  {
   "cell_type": "code",
   "execution_count": null,
   "metadata": {
    "colab": {
     "base_uri": "https://localhost:8080/",
     "height": 617
    },
    "id": "37uTNc95ckBw",
    "outputId": "f2e96090-767b-4b24-a879-c3c123d3802b"
   },
   "outputs": [],
   "source": [
    "plot_model(KMEANS, plot = \"distribution\", feature = \"PURCHASES\")"
   ]
  },
  {
   "cell_type": "markdown",
   "metadata": {
    "id": "TvLpg4o78DuP"
   },
   "source": [
    "The  majority of customers from cluster 0 and cluster 1 made purchases around 0 and 7000. However the customers in Cluster 2 and cluster3 have much higher amount purchases. This can be seen clearly in the box plots's whiskers suggesting the outliers of the data"
   ]
  },
  {
   "cell_type": "code",
   "execution_count": null,
   "metadata": {
    "colab": {
     "base_uri": "https://localhost:8080/",
     "height": 617
    },
    "id": "cud4CVZtmo79",
    "outputId": "a78a847d-e54a-4f4e-b3da-8ff59231cda1"
   },
   "outputs": [],
   "source": [
    "plot_model(KMEANS, plot = \"distribution\", feature = \"BALANCE\")"
   ]
  },
  {
   "cell_type": "markdown",
   "metadata": {
    "id": "E2z3HIQX_EMQ"
   },
   "source": [
    "The balance of customers of cluster1 and cluster0 for most cases was in range0 to 2k. Then it went downhill as the highest around 6500k. Cluster3 and cluster2 had customers having much higher balance for most cases"
   ]
  },
  {
   "cell_type": "code",
   "execution_count": null,
   "metadata": {
    "colab": {
     "base_uri": "https://localhost:8080/",
     "height": 617
    },
    "id": "r19-Dg6_ARZj",
    "outputId": "9304624b-ea94-47ae-96bf-3f9994a62faa"
   },
   "outputs": [],
   "source": [
    "plot_model(KMEANS, plot = \"distribution\", feature = \"CREDIT_LIMIT\")"
   ]
  },
  {
   "cell_type": "markdown",
   "metadata": {
    "id": "N-Egn1yWAc6q"
   },
   "source": [
    "Once again the same trend is followed cluster 1 and cluster 0 had smaller credit limits than cluster2 and cluster3 barring some exceptions. Majority of people from clusters 0 and 1 had a credit limit upto 10k"
   ]
  },
  {
   "cell_type": "code",
   "execution_count": null,
   "metadata": {
    "colab": {
     "base_uri": "https://localhost:8080/",
     "height": 617
    },
    "id": "lC28RmLOBEd2",
    "outputId": "06a3eda5-93b6-4456-b7c1-68cfcd78f3d3"
   },
   "outputs": [],
   "source": [
    "plot_model(KMEANS, plot = \"distribution\", feature = \"PRC_FULL_PAYMENT\")"
   ]
  },
  {
   "cell_type": "markdown",
   "metadata": {
    "id": "BvAjpbw_BfuL"
   },
   "source": [
    "Here the trend is different from the previous variables. Cluster0 and cluster 2 have the customers whose payment were paid in full of the statement. Eventhough customers from cluster1 had lower credit, purchases from cluster 2 the payment of due statement is more for cluster 2."
   ]
  },
  {
   "cell_type": "code",
   "execution_count": null,
   "metadata": {
    "colab": {
     "base_uri": "https://localhost:8080/",
     "height": 617
    },
    "id": "0lOHqSTXCnRj",
    "outputId": "6c8572ba-8168-428e-a2c2-17bba671c942"
   },
   "outputs": [],
   "source": [
    "plot_model(KMEANS, plot = \"distribution\", feature = \"INSTALLMENTS_PURCHASES\")"
   ]
  },
  {
   "cell_type": "markdown",
   "metadata": {
    "id": "TUt7jMcwDNQP"
   },
   "source": [
    "Customers from cluster 1 had very few purchases in installments. The most highest installment purchases were of customers from cluster2 eventhough their credit limit was somewhat lower from the customers of cluster3. \n"
   ]
  },
  {
   "cell_type": "code",
   "execution_count": null,
   "metadata": {
    "colab": {
     "base_uri": "https://localhost:8080/",
     "height": 617
    },
    "id": "NEB78uCsFBoF",
    "outputId": "9c76182b-ab33-44cb-c99f-b214adff868d"
   },
   "outputs": [],
   "source": [
    "plot_model(KMEANS, plot = \"distribution\", feature = \"PURCHASES_TRX\")"
   ]
  },
  {
   "cell_type": "markdown",
   "metadata": {
    "id": "2F2mEL-AFFWj"
   },
   "source": [
    "The Average amount paid from the customers in cluster1 was around 0 to 30. Customers from cluster0 had a much larger range than cluster0. However cluster0 had more outliers. The customers from cluster2 had the highest range and amount average payment per transaction "
   ]
  },
  {
   "cell_type": "code",
   "execution_count": null,
   "metadata": {
    "colab": {
     "base_uri": "https://localhost:8080/",
     "height": 617
    },
    "id": "DzUH5TMwGctq",
    "outputId": "177df9ad-a8e0-4570-9753-93e0802a07e0"
   },
   "outputs": [],
   "source": [
    "plot_model(KMEANS, plot = \"distribution\", feature = \"PURCHASES_FREQUENCY\")"
   ]
  },
  {
   "cell_type": "markdown",
   "metadata": {
    "id": "GlXb5QvTHrPz"
   },
   "source": [
    "Interestingly customers from cluster0 had the numbers in  purchase frequency as their credit limit and balance were the lowest in general. Customers from cluster1 and cluster3 had varying purchase frequency throughout"
   ]
  },
  {
   "cell_type": "code",
   "execution_count": null,
   "metadata": {
    "colab": {
     "base_uri": "https://localhost:8080/",
     "height": 817,
     "referenced_widgets": [
      "de0ed149e6f3428fa41ec0b220bf38db",
      "42ea2b5fe56349c39c0ec89e4a68ab9b",
      "8234d75b4979482f831d0bad7092a5ce"
     ]
    },
    "id": "6_oTBO4jckBw",
    "outputId": "ee946a82-de1c-4ae8-81c5-2990a94cc436"
   },
   "outputs": [],
   "source": [
    "plot_model(KMEANS, plot ='tsne')\n"
   ]
  },
  {
   "cell_type": "markdown",
   "metadata": {
    "id": "RXBDHj01I3xc"
   },
   "source": [
    "Overall analysis:-\n",
    "Cluster1 and Cluster0 customers had low credit limit, low balance, low purchases\n",
    "Cluster2 and Cluster3 had customers with high credit limit but low purchase frequency on average compared to other clusters"
   ]
  }
 ],
 "metadata": {
  "colab": {
   "collapsed_sections": [],
   "name": "Creditcard_clustering.ipynb",
   "provenance": []
  },
  "interpreter": {
   "hash": "5ef4c0816761d506f3ee5cebcc54c30fe564f986decebbcb6666054a4fa066de"
  },
  "kernelspec": {
   "display_name": "Python 3 (ipykernel)",
   "language": "python",
   "name": "python3"
  },
  "language_info": {
   "codemirror_mode": {
    "name": "ipython",
    "version": 3
   },
   "file_extension": ".py",
   "mimetype": "text/x-python",
   "name": "python",
   "nbconvert_exporter": "python",
   "pygments_lexer": "ipython3",
   "version": "3.9.7"
  },
  "widgets": {
   "application/vnd.jupyter.widget-state+json": {
    "02621f62abbe498c8dc22c4d7cf62dde": {
     "model_module": "@jupyter-widgets/controls",
     "model_module_version": "1.5.0",
     "model_name": "ProgressStyleModel",
     "state": {
      "_model_module": "@jupyter-widgets/controls",
      "_model_module_version": "1.5.0",
      "_model_name": "ProgressStyleModel",
      "_view_count": null,
      "_view_module": "@jupyter-widgets/base",
      "_view_module_version": "1.2.0",
      "_view_name": "StyleView",
      "bar_color": null,
      "description_width": ""
     }
    },
    "14f33e6afbbd49ae89dbfbe28ac7ef4d": {
     "model_module": "@jupyter-widgets/controls",
     "model_module_version": "1.5.0",
     "model_name": "ProgressStyleModel",
     "state": {
      "_model_module": "@jupyter-widgets/controls",
      "_model_module_version": "1.5.0",
      "_model_name": "ProgressStyleModel",
      "_view_count": null,
      "_view_module": "@jupyter-widgets/base",
      "_view_module_version": "1.2.0",
      "_view_name": "StyleView",
      "bar_color": null,
      "description_width": ""
     }
    },
    "1bfab0a4d3ae402a981705786bf7b580": {
     "model_module": "@jupyter-widgets/base",
     "model_module_version": "1.2.0",
     "model_name": "LayoutModel",
     "state": {
      "_model_module": "@jupyter-widgets/base",
      "_model_module_version": "1.2.0",
      "_model_name": "LayoutModel",
      "_view_count": null,
      "_view_module": "@jupyter-widgets/base",
      "_view_module_version": "1.2.0",
      "_view_name": "LayoutView",
      "align_content": null,
      "align_items": null,
      "align_self": null,
      "border": null,
      "bottom": null,
      "display": null,
      "flex": null,
      "flex_flow": null,
      "grid_area": null,
      "grid_auto_columns": null,
      "grid_auto_flow": null,
      "grid_auto_rows": null,
      "grid_column": null,
      "grid_gap": null,
      "grid_row": null,
      "grid_template_areas": null,
      "grid_template_columns": null,
      "grid_template_rows": null,
      "height": null,
      "justify_content": null,
      "justify_items": null,
      "left": null,
      "margin": null,
      "max_height": null,
      "max_width": null,
      "min_height": null,
      "min_width": null,
      "object_fit": null,
      "object_position": null,
      "order": null,
      "overflow": null,
      "overflow_x": null,
      "overflow_y": null,
      "padding": null,
      "right": null,
      "top": null,
      "visibility": null,
      "width": null
     }
    },
    "2e0072ee31e740fb9156f0b647c05acf": {
     "model_module": "@jupyter-widgets/controls",
     "model_module_version": "1.5.0",
     "model_name": "IntProgressModel",
     "state": {
      "_dom_classes": [],
      "_model_module": "@jupyter-widgets/controls",
      "_model_module_version": "1.5.0",
      "_model_name": "IntProgressModel",
      "_view_count": null,
      "_view_module": "@jupyter-widgets/controls",
      "_view_module_version": "1.5.0",
      "_view_name": "ProgressView",
      "bar_style": "",
      "description": "Processing: ",
      "description_tooltip": null,
      "layout": "IPY_MODEL_8bac82baa56a4c5584c0be1a540dd7bf",
      "max": 3,
      "min": 0,
      "orientation": "horizontal",
      "style": "IPY_MODEL_14f33e6afbbd49ae89dbfbe28ac7ef4d",
      "value": 3
     }
    },
    "42ea2b5fe56349c39c0ec89e4a68ab9b": {
     "model_module": "@jupyter-widgets/base",
     "model_module_version": "1.2.0",
     "model_name": "LayoutModel",
     "state": {
      "_model_module": "@jupyter-widgets/base",
      "_model_module_version": "1.2.0",
      "_model_name": "LayoutModel",
      "_view_count": null,
      "_view_module": "@jupyter-widgets/base",
      "_view_module_version": "1.2.0",
      "_view_name": "LayoutView",
      "align_content": null,
      "align_items": null,
      "align_self": null,
      "border": null,
      "bottom": null,
      "display": null,
      "flex": null,
      "flex_flow": null,
      "grid_area": null,
      "grid_auto_columns": null,
      "grid_auto_flow": null,
      "grid_auto_rows": null,
      "grid_column": null,
      "grid_gap": null,
      "grid_row": null,
      "grid_template_areas": null,
      "grid_template_columns": null,
      "grid_template_rows": null,
      "height": null,
      "justify_content": null,
      "justify_items": null,
      "left": null,
      "margin": null,
      "max_height": null,
      "max_width": null,
      "min_height": null,
      "min_width": null,
      "object_fit": null,
      "object_position": null,
      "order": null,
      "overflow": null,
      "overflow_x": null,
      "overflow_y": null,
      "padding": null,
      "right": null,
      "top": null,
      "visibility": null,
      "width": null
     }
    },
    "470fe7d873d640a0af05214e89c57261": {
     "model_module": "@jupyter-widgets/base",
     "model_module_version": "1.2.0",
     "model_name": "LayoutModel",
     "state": {
      "_model_module": "@jupyter-widgets/base",
      "_model_module_version": "1.2.0",
      "_model_name": "LayoutModel",
      "_view_count": null,
      "_view_module": "@jupyter-widgets/base",
      "_view_module_version": "1.2.0",
      "_view_name": "LayoutView",
      "align_content": null,
      "align_items": null,
      "align_self": null,
      "border": null,
      "bottom": null,
      "display": null,
      "flex": null,
      "flex_flow": null,
      "grid_area": null,
      "grid_auto_columns": null,
      "grid_auto_flow": null,
      "grid_auto_rows": null,
      "grid_column": null,
      "grid_gap": null,
      "grid_row": null,
      "grid_template_areas": null,
      "grid_template_columns": null,
      "grid_template_rows": null,
      "height": null,
      "justify_content": null,
      "justify_items": null,
      "left": null,
      "margin": null,
      "max_height": null,
      "max_width": null,
      "min_height": null,
      "min_width": null,
      "object_fit": null,
      "object_position": null,
      "order": null,
      "overflow": null,
      "overflow_x": null,
      "overflow_y": null,
      "padding": null,
      "right": null,
      "top": null,
      "visibility": null,
      "width": null
     }
    },
    "4daa292353f04cc2ad35ed10701a91fa": {
     "model_module": "@jupyter-widgets/base",
     "model_module_version": "1.2.0",
     "model_name": "LayoutModel",
     "state": {
      "_model_module": "@jupyter-widgets/base",
      "_model_module_version": "1.2.0",
      "_model_name": "LayoutModel",
      "_view_count": null,
      "_view_module": "@jupyter-widgets/base",
      "_view_module_version": "1.2.0",
      "_view_name": "LayoutView",
      "align_content": null,
      "align_items": null,
      "align_self": null,
      "border": null,
      "bottom": null,
      "display": null,
      "flex": null,
      "flex_flow": null,
      "grid_area": null,
      "grid_auto_columns": null,
      "grid_auto_flow": null,
      "grid_auto_rows": null,
      "grid_column": null,
      "grid_gap": null,
      "grid_row": null,
      "grid_template_areas": null,
      "grid_template_columns": null,
      "grid_template_rows": null,
      "height": null,
      "justify_content": null,
      "justify_items": null,
      "left": null,
      "margin": null,
      "max_height": null,
      "max_width": null,
      "min_height": null,
      "min_width": null,
      "object_fit": null,
      "object_position": null,
      "order": null,
      "overflow": null,
      "overflow_x": null,
      "overflow_y": null,
      "padding": null,
      "right": null,
      "top": null,
      "visibility": null,
      "width": null
     }
    },
    "5a60ffe84f4040f8bcc8cc20b8f597ab": {
     "model_module": "@jupyter-widgets/controls",
     "model_module_version": "1.5.0",
     "model_name": "ProgressStyleModel",
     "state": {
      "_model_module": "@jupyter-widgets/controls",
      "_model_module_version": "1.5.0",
      "_model_name": "ProgressStyleModel",
      "_view_count": null,
      "_view_module": "@jupyter-widgets/base",
      "_view_module_version": "1.2.0",
      "_view_name": "StyleView",
      "bar_color": null,
      "description_width": ""
     }
    },
    "5e1f5dd7b136484bbcc84cd1ca7df6ad": {
     "model_module": "@jupyter-widgets/base",
     "model_module_version": "1.2.0",
     "model_name": "LayoutModel",
     "state": {
      "_model_module": "@jupyter-widgets/base",
      "_model_module_version": "1.2.0",
      "_model_name": "LayoutModel",
      "_view_count": null,
      "_view_module": "@jupyter-widgets/base",
      "_view_module_version": "1.2.0",
      "_view_name": "LayoutView",
      "align_content": null,
      "align_items": null,
      "align_self": null,
      "border": null,
      "bottom": null,
      "display": null,
      "flex": null,
      "flex_flow": null,
      "grid_area": null,
      "grid_auto_columns": null,
      "grid_auto_flow": null,
      "grid_auto_rows": null,
      "grid_column": null,
      "grid_gap": null,
      "grid_row": null,
      "grid_template_areas": null,
      "grid_template_columns": null,
      "grid_template_rows": null,
      "height": null,
      "justify_content": null,
      "justify_items": null,
      "left": null,
      "margin": null,
      "max_height": null,
      "max_width": null,
      "min_height": null,
      "min_width": null,
      "object_fit": null,
      "object_position": null,
      "order": null,
      "overflow": null,
      "overflow_x": null,
      "overflow_y": null,
      "padding": null,
      "right": null,
      "top": null,
      "visibility": null,
      "width": null
     }
    },
    "8234d75b4979482f831d0bad7092a5ce": {
     "model_module": "@jupyter-widgets/controls",
     "model_module_version": "1.5.0",
     "model_name": "ProgressStyleModel",
     "state": {
      "_model_module": "@jupyter-widgets/controls",
      "_model_module_version": "1.5.0",
      "_model_name": "ProgressStyleModel",
      "_view_count": null,
      "_view_module": "@jupyter-widgets/base",
      "_view_module_version": "1.2.0",
      "_view_name": "StyleView",
      "bar_color": null,
      "description_width": ""
     }
    },
    "8bac82baa56a4c5584c0be1a540dd7bf": {
     "model_module": "@jupyter-widgets/base",
     "model_module_version": "1.2.0",
     "model_name": "LayoutModel",
     "state": {
      "_model_module": "@jupyter-widgets/base",
      "_model_module_version": "1.2.0",
      "_model_name": "LayoutModel",
      "_view_count": null,
      "_view_module": "@jupyter-widgets/base",
      "_view_module_version": "1.2.0",
      "_view_name": "LayoutView",
      "align_content": null,
      "align_items": null,
      "align_self": null,
      "border": null,
      "bottom": null,
      "display": null,
      "flex": null,
      "flex_flow": null,
      "grid_area": null,
      "grid_auto_columns": null,
      "grid_auto_flow": null,
      "grid_auto_rows": null,
      "grid_column": null,
      "grid_gap": null,
      "grid_row": null,
      "grid_template_areas": null,
      "grid_template_columns": null,
      "grid_template_rows": null,
      "height": null,
      "justify_content": null,
      "justify_items": null,
      "left": null,
      "margin": null,
      "max_height": null,
      "max_width": null,
      "min_height": null,
      "min_width": null,
      "object_fit": null,
      "object_position": null,
      "order": null,
      "overflow": null,
      "overflow_x": null,
      "overflow_y": null,
      "padding": null,
      "right": null,
      "top": null,
      "visibility": null,
      "width": null
     }
    },
    "9670c769f12240c0bc9ecd91ea1fa150": {
     "model_module": "@jupyter-widgets/controls",
     "model_module_version": "1.5.0",
     "model_name": "IntProgressModel",
     "state": {
      "_dom_classes": [],
      "_model_module": "@jupyter-widgets/controls",
      "_model_module_version": "1.5.0",
      "_model_name": "IntProgressModel",
      "_view_count": null,
      "_view_module": "@jupyter-widgets/controls",
      "_view_module_version": "1.5.0",
      "_view_name": "ProgressView",
      "bar_style": "",
      "description": "Processing: ",
      "description_tooltip": null,
      "layout": "IPY_MODEL_5e1f5dd7b136484bbcc84cd1ca7df6ad",
      "max": 3,
      "min": 0,
      "orientation": "horizontal",
      "style": "IPY_MODEL_02621f62abbe498c8dc22c4d7cf62dde",
      "value": 3
     }
    },
    "a25abc90c027449c9af2dbb9510648f9": {
     "model_module": "@jupyter-widgets/controls",
     "model_module_version": "1.5.0",
     "model_name": "ProgressStyleModel",
     "state": {
      "_model_module": "@jupyter-widgets/controls",
      "_model_module_version": "1.5.0",
      "_model_name": "ProgressStyleModel",
      "_view_count": null,
      "_view_module": "@jupyter-widgets/base",
      "_view_module_version": "1.2.0",
      "_view_name": "StyleView",
      "bar_color": null,
      "description_width": ""
     }
    },
    "b2dd85b917a34558b271360c4270749f": {
     "model_module": "@jupyter-widgets/controls",
     "model_module_version": "1.5.0",
     "model_name": "ProgressStyleModel",
     "state": {
      "_model_module": "@jupyter-widgets/controls",
      "_model_module_version": "1.5.0",
      "_model_name": "ProgressStyleModel",
      "_view_count": null,
      "_view_module": "@jupyter-widgets/base",
      "_view_module_version": "1.2.0",
      "_view_name": "StyleView",
      "bar_color": null,
      "description_width": ""
     }
    },
    "bbcbaac38d2d4ad7b66e2373364eb05a": {
     "model_module": "@jupyter-widgets/controls",
     "model_module_version": "1.5.0",
     "model_name": "IntProgressModel",
     "state": {
      "_dom_classes": [],
      "_model_module": "@jupyter-widgets/controls",
      "_model_module_version": "1.5.0",
      "_model_name": "IntProgressModel",
      "_view_count": null,
      "_view_module": "@jupyter-widgets/controls",
      "_view_module_version": "1.5.0",
      "_view_name": "ProgressView",
      "bar_style": "",
      "description": "Processing: ",
      "description_tooltip": null,
      "layout": "IPY_MODEL_4daa292353f04cc2ad35ed10701a91fa",
      "max": 5,
      "min": 0,
      "orientation": "horizontal",
      "style": "IPY_MODEL_b2dd85b917a34558b271360c4270749f",
      "value": 5
     }
    },
    "de0ed149e6f3428fa41ec0b220bf38db": {
     "model_module": "@jupyter-widgets/controls",
     "model_module_version": "1.5.0",
     "model_name": "IntProgressModel",
     "state": {
      "_dom_classes": [],
      "_model_module": "@jupyter-widgets/controls",
      "_model_module_version": "1.5.0",
      "_model_name": "IntProgressModel",
      "_view_count": null,
      "_view_module": "@jupyter-widgets/controls",
      "_view_module_version": "1.5.0",
      "_view_name": "ProgressView",
      "bar_style": "",
      "description": "Processing: ",
      "description_tooltip": null,
      "layout": "IPY_MODEL_42ea2b5fe56349c39c0ec89e4a68ab9b",
      "max": 5,
      "min": 0,
      "orientation": "horizontal",
      "style": "IPY_MODEL_8234d75b4979482f831d0bad7092a5ce",
      "value": 3
     }
    },
    "de13c2f2260b41b4b631757453722b66": {
     "model_module": "@jupyter-widgets/controls",
     "model_module_version": "1.5.0",
     "model_name": "IntProgressModel",
     "state": {
      "_dom_classes": [],
      "_model_module": "@jupyter-widgets/controls",
      "_model_module_version": "1.5.0",
      "_model_name": "IntProgressModel",
      "_view_count": null,
      "_view_module": "@jupyter-widgets/controls",
      "_view_module_version": "1.5.0",
      "_view_name": "ProgressView",
      "bar_style": "",
      "description": "Processing: ",
      "description_tooltip": null,
      "layout": "IPY_MODEL_470fe7d873d640a0af05214e89c57261",
      "max": 5,
      "min": 0,
      "orientation": "horizontal",
      "style": "IPY_MODEL_a25abc90c027449c9af2dbb9510648f9",
      "value": 5
     }
    },
    "f82f849bfaa741729d8003759898a98b": {
     "model_module": "@jupyter-widgets/controls",
     "model_module_version": "1.5.0",
     "model_name": "IntProgressModel",
     "state": {
      "_dom_classes": [],
      "_model_module": "@jupyter-widgets/controls",
      "_model_module_version": "1.5.0",
      "_model_name": "IntProgressModel",
      "_view_count": null,
      "_view_module": "@jupyter-widgets/controls",
      "_view_module_version": "1.5.0",
      "_view_name": "ProgressView",
      "bar_style": "",
      "description": "Processing: ",
      "description_tooltip": null,
      "layout": "IPY_MODEL_1bfab0a4d3ae402a981705786bf7b580",
      "max": 3,
      "min": 0,
      "orientation": "horizontal",
      "style": "IPY_MODEL_5a60ffe84f4040f8bcc8cc20b8f597ab",
      "value": 3
     }
    }
   }
  }
 },
 "nbformat": 4,
 "nbformat_minor": 1
}
